{
 "cells": [
  {
   "cell_type": "code",
   "execution_count": 171,
   "metadata": {},
   "outputs": [],
   "source": [
    "import numpy as np\n",
    "import csv\n",
    "import scipy.optimize as opt\n",
    "\n",
    "##### This part is just test data, the function is below\n",
    "\n",
    "#Choosing a yearly risk-free rate\n",
    "rf = 0.03;\n",
    "#Monthly data needs monthly rf rate\n",
    "rfm = rf/12;\n",
    "\n",
    "# first let's read the data we need to test on\n",
    "#stock price data\n",
    "stock_dat = 'MIE377_Project.csv'\n",
    "stock_tab = []\n",
    "with open(stock_dat, 'r') as csvfile:\n",
    "    stockreader = csv.reader(csvfile, delimiter = ' ')\n",
    "    for row in stockreader:\n",
    "        stock_tab.append(row)\n",
    "\n",
    "stock_tab2 = []\n",
    "for i in range(1, len(stock_tab)):\n",
    "    stock_tab2.append(stock_tab[i][0].split(','))        \n",
    "        \n",
    "#convert stock data to float type\n",
    "for i in range(0, len(stock_tab2)):\n",
    "    #stock_tab2[i][0] = int(stock_tab2[i][0])\n",
    "    for j in range(0, len(stock_tab2[i])):\n",
    "        stock_tab2[i][j] = float(stock_tab2[i][j])\n",
    "        \n",
    "periods = len(stock_tab2) - 1\n",
    "stocks = len(stock_tab2[0]) - 1\n",
    "#first get numpy matrix of price data\n",
    "price = np.array([stock_tab2[i][0:(stocks + 1)] for i in range(0, periods + 1)],\\\n",
    "                 dtype = np.float64)\n",
    "#get return data\n",
    "\n",
    "#get return as (P[i] - P[i-1])/P[i-1]\n",
    "rets = (price[0:periods,:-1] - price[1:(periods+1),:-1])/price[1:(periods+1),:-1]\n",
    "#now get mean returns\n",
    "#axis 0 pertains to columns, which is what I am looking for (i.e. mean return of each stock)\n",
    "mu = np.mean(rets, axis = 0)\n",
    "\n",
    "#get covariance matrix\n",
    "Q = np.cov(rets, rowvar = False)        "
   ]
  },
  {
   "cell_type": "code",
   "execution_count": 205,
   "metadata": {},
   "outputs": [
    {
     "name": "stdout",
     "output_type": "stream",
     "text": [
      "Optimization terminated successfully.    (Exit mode 0)\n",
      "            Current function value: 6.889261698469497e-05\n",
      "            Iterations: 8\n",
      "            Function evaluations: 88\n",
      "            Gradient evaluations: 8\n"
     ]
    },
    {
     "data": {
      "text/plain": [
       "(array([6.03069620e-01, 5.42101086e-19, 1.00918011e-01, 1.04565209e-01,\n",
       "        0.00000000e+00, 1.23224061e-01, 6.81762655e-02, 9.48676901e-20,\n",
       "        4.68334854e-05]), 6.889261698469497e-05, 0.005000000000157543)"
      ]
     },
     "execution_count": 205,
     "metadata": {},
     "output_type": "execute_result"
    }
   ],
   "source": [
    "import numpy as np\n",
    "import csv\n",
    "import scipy.optimize as opt\n",
    "\n",
    "def mvo(Q, mu, mu_goal, rf):\n",
    "    #Q is the covariance matrix\n",
    "    #mu is the list of asset returns (row vector)\n",
    "    #mu_goal and rf are the return goals\n",
    "    def variance(x,data):\n",
    "        Q, mu, mu_goal, rf = data\n",
    "        #X is a row-vector\n",
    "        #Q is the covariance matrix\n",
    "        z = np.array(x)\n",
    "        z = z[:-1] #Remove the risk free asset\n",
    "        var = (1/2)*(np.matmul(z,np.matmul(Q,np.transpose(z))))\n",
    "        return var\n",
    "\n",
    "    #Constraint Definitions\n",
    "    def ret_goal(x, data):\n",
    "        Q, mu, mu_goal, rf = data\n",
    "        #x and mu are row vectors\n",
    "        z = np.array(x)\n",
    "        #add the risk free return\n",
    "        z_mu = np.append(np.array(mu), rf)\n",
    "        val = np.matmul(z,np.transpose(z_mu)) - mu_goal\n",
    "        return val\n",
    "\n",
    "    def budget(x, data):\n",
    "        Q, mu, mu_goal, rf = data\n",
    "        return (np.sum(x)-1)\n",
    "    \n",
    "    #Arg structure\n",
    "    data = [Q, mu, mu_goal, rf]\n",
    "    \n",
    "    #Constraint structure\n",
    "    cons = [{'type':'eq', 'fun': budget, 'args': (data,)},\n",
    "        {'type':'ineq', 'fun': ret_goal, 'args': (data,)}]\n",
    "    \n",
    "    \n",
    "    #Initial guess construction\n",
    "    x0 = np.zeros(len(mu)+1)\n",
    "    x0[0] = 1\n",
    "    \n",
    "    #No short selling condition\n",
    "    bounds = [(0, np.inf) for _ in x0]\n",
    "    \n",
    "    #Optimization\n",
    "    res = opt.minimize(variance, x0, args=(data,), method='SLSQP',\n",
    "                       constraints=cons, options={'ftol': 1e-9, 'disp': True}, bounds = bounds)\n",
    "    \n",
    "    \n",
    "    port_var = res.fun\n",
    "    port_weights = res.x\n",
    "    port_ret = np.matmul(np.array(res.x),np.transpose(np.append(mu,rf)))\n",
    "    \n",
    "    return((port_weights,port_var,port_ret))\n"
   ]
  }
 ],
 "metadata": {
  "kernelspec": {
   "display_name": "Python 3",
   "language": "python",
   "name": "python3"
  },
  "language_info": {
   "codemirror_mode": {
    "name": "ipython",
    "version": 3
   },
   "file_extension": ".py",
   "mimetype": "text/x-python",
   "name": "python",
   "nbconvert_exporter": "python",
   "pygments_lexer": "ipython3",
   "version": "3.7.0"
  }
 },
 "nbformat": 4,
 "nbformat_minor": 2
}
